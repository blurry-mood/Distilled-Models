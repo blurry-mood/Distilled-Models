{
 "cells": [
  {
   "cell_type": "code",
   "execution_count": 1,
   "id": "1f2cbfac",
   "metadata": {},
   "outputs": [],
   "source": [
    "import torch\n",
    "from torch import nn\n",
    "from torch.nn.functional import softmax,  log_softmax\n",
    "from torchmetrics import Accuracy\n",
    "\n",
    "import timm\n",
    "\n",
    "import pytorch_lightning as pl\n",
    "\n",
    "import wandb\n",
    "\n",
    "import albumentations as T\n",
    "\n",
    "import sys\n",
    "sys.path.append('../')\n",
    "\n",
    "from datasets.cifar100_datamodule import DataModule"
   ]
  },
  {
   "cell_type": "code",
   "execution_count": 2,
   "id": "40a2db8b",
   "metadata": {},
   "outputs": [],
   "source": [
    "def kl_div(x, y):\n",
    "    px = softmax(x, dim=1)\n",
    "    lpx, lpy = log_softmax(x, dim=1), log_softmax(y, dim=1)\n",
    "    return (px*(lpx-lpy)).mean()\n",
    "\n",
    "class LitModel(pl.LightningModule):\n",
    "    \n",
    "    def __init__(self, ):\n",
    "        super().__init__()\n",
    "        self.resnet1 = timm.create_model('resnet18', pretrained=False)\n",
    "        self.resnet2 = timm.create_model('resnet18', pretrained=False)\n",
    "        \n",
    "        self.celoss = nn.CrossEntropyLoss()\n",
    "        self.acc = Accuracy(compute_on_step=True)\n",
    "        \n",
    "    def configure_optimizers(self):\n",
    "        opt1 = torch.optim.SGD(self.resnet1.parameters(), lr=.1, momentum=.9, nesterov=True)\n",
    "        opt2 = torch.optim.SGD(self.resnet2.parameters(), lr=.1, momentum=.9, nesterov=True)\n",
    "        step1 = torch.optim.lr_scheduler.StepLR(opt1, step_size=60, gamma=.1)\n",
    "        step2 = torch.optim.lr_scheduler.StepLR(opt1, step_size=60, gamma=.1)\n",
    "        return [opt1, opt2], [step1, step2]\n",
    "    \n",
    "    def forward(self, x, first:bool):\n",
    "        x1 = self.resnet1(x)\n",
    "        x2 = self.resnet2(x)\n",
    "        if first:\n",
    "            x1 = x1.detach()\n",
    "        else:\n",
    "            x2 = x2.detach()\n",
    "        return x1, x2\n",
    "    \n",
    "    def training_step(self, batch, batch_id, optimizer_idx):\n",
    "        x, y = batch\n",
    "        x1, x2 = self(x, optimizer_idx!=0)\n",
    "        if optimizer_idx==0:\n",
    "            loss = self.celoss(x1, y) + kl_div(x2, x1)\n",
    "        else:\n",
    "            loss = self.celoss(x2, y) + kl_div(x1, x2)\n",
    "            \n",
    "        self.log(f'train_loss{optimizer_idx}', loss, prog_bar=True,)\n",
    "\n",
    "        return loss\n",
    "    \n",
    "    def validation_step(self, batch, *a):\n",
    "        x, y = batch\n",
    "        x1, x2 = self(x, True)\n",
    "        x1, x2 = softmax(x1, dim=1), softmax(x2, dim=1)\n",
    "        self.log('val_acc1', self.acc(x1, y), prog_bar=True)\n",
    "        self.log('val_acc2', self.acc(x2, y), prog_bar=True)\n",
    "        \n",
    "        return None\n",
    "    \n",
    "    def testing_step(self, batch, *a):\n",
    "        x, y = batch\n",
    "        x1, x2 = self(x, True)\n",
    "        x1, x2 = softmax(x1, dim=1), softmax(x2, dim=1)\n",
    "        self.log('test_acc1', self.acc(x1, y), prog_bar=True)\n",
    "        self.log('test_acc2', self.acc(x2, y), prog_bar=True)"
   ]
  },
  {
   "cell_type": "code",
   "execution_count": 3,
   "id": "41046a7e",
   "metadata": {},
   "outputs": [],
   "source": [
    "transforms = T.Compose([\n",
    "                        T.HorizontalFlip(p=.5), \n",
    "                        T.RandomCrop(28, 28, always_apply=True), \n",
    "                        T.CropAndPad(px=4, pad_mode=2, keep_size=False)\n",
    "                       ])"
   ]
  },
  {
   "cell_type": "code",
   "execution_count": null,
   "id": "0fcd9405",
   "metadata": {},
   "outputs": [
    {
     "name": "stderr",
     "output_type": "stream",
     "text": [
      "GPU available: True, used: True\n",
      "TPU available: False, using: 0 TPU cores\n",
      "IPU available: False, using: 0 IPUs\n",
      "LOCAL_RANK: 0 - CUDA_VISIBLE_DEVICES: [0]\n"
     ]
    },
    {
     "name": "stdout",
     "output_type": "stream",
     "text": [
      "\n",
      "\n"
     ]
    },
    {
     "name": "stderr",
     "output_type": "stream",
     "text": [
      "\u001b[34m\u001b[1mwandb\u001b[0m: Currently logged in as: \u001b[33mblurry-mood\u001b[0m (use `wandb login --relogin` to force relogin)\n"
     ]
    },
    {
     "data": {
      "text/html": [
       "\n",
       "                Tracking run with wandb version 0.12.0<br/>\n",
       "                Syncing run <strong style=\"color:#cdcd00\">distilled models</strong> to <a href=\"https://wandb.ai\" target=\"_blank\">Weights & Biases</a> <a href=\"https://docs.wandb.com/integrations/jupyter.html\" target=\"_blank\">(Documentation)</a>.<br/>\n",
       "                Project page: <a href=\"https://wandb.ai/blurry-mood/Distilled-Models-src\" target=\"_blank\">https://wandb.ai/blurry-mood/Distilled-Models-src</a><br/>\n",
       "                Run page: <a href=\"https://wandb.ai/blurry-mood/Distilled-Models-src/runs/3ger42xn\" target=\"_blank\">https://wandb.ai/blurry-mood/Distilled-Models-src/runs/3ger42xn</a><br/>\n",
       "                Run data is saved locally in <code>/notebooks/Distilled-Models/src/wandb/run-20210816_130624-3ger42xn</code><br/><br/>\n",
       "            "
      ],
      "text/plain": [
       "<IPython.core.display.HTML object>"
      ]
     },
     "metadata": {},
     "output_type": "display_data"
    },
    {
     "name": "stderr",
     "output_type": "stream",
     "text": [
      "\n",
      "  | Name    | Type             | Params\n",
      "---------------------------------------------\n",
      "0 | resnet1 | ResNet           | 11.7 M\n",
      "1 | resnet2 | ResNet           | 11.7 M\n",
      "2 | celoss  | CrossEntropyLoss | 0     \n",
      "3 | acc     | Accuracy         | 0     \n",
      "---------------------------------------------\n",
      "23.4 M    Trainable params\n",
      "0         Non-trainable params\n",
      "23.4 M    Total params\n",
      "93.516    Total estimated model params size (MB)\n"
     ]
    }
   ],
   "source": [
    "wandb.finish()\n",
    "\n",
    "logger = pl.loggers.wandb.WandbLogger(name='distilled models', entity='blurry-mood')\n",
    "trainer = pl.Trainer(gpus=-1, max_epochs=200, logger=logger, val_check_interval=.5, progress_bar_refresh_rate=0)\n",
    "dm = DataModule('../datasets/cifar-100-python/', transforms, batch_size=64)\n",
    "\n",
    "litmodel = LitModel()\n",
    "trainer.fit(litmodel, dm)\n",
    "trainer.test(litmodel)"
   ]
  },
  {
   "cell_type": "code",
   "execution_count": null,
   "id": "900a83cd",
   "metadata": {},
   "outputs": [],
   "source": []
  },
  {
   "cell_type": "code",
   "execution_count": null,
   "id": "491924cf",
   "metadata": {},
   "outputs": [],
   "source": []
  }
 ],
 "metadata": {
  "kernelspec": {
   "display_name": "Python 3",
   "language": "python",
   "name": "python3"
  },
  "language_info": {
   "codemirror_mode": {
    "name": "ipython",
    "version": 3
   },
   "file_extension": ".py",
   "mimetype": "text/x-python",
   "name": "python",
   "nbconvert_exporter": "python",
   "pygments_lexer": "ipython3",
   "version": "3.8.5"
  }
 },
 "nbformat": 4,
 "nbformat_minor": 5
}
