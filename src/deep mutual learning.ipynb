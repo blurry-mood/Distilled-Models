{
 "cells": [
  {
   "cell_type": "code",
   "execution_count": null,
   "id": "e394561b",
   "metadata": {
    "gradient": {
     "editing": false
    }
   },
   "outputs": [],
   "source": [
    "import torch\n",
    "torch.backends.cudnn.benchmark = True\n",
    "\n",
    "from torch import nn\n",
    "from torch.nn.functional import softmax,  log_softmax\n",
    "from torchmetrics import Accuracy\n",
    "\n",
    "from resnet_cifar import resnet32\n",
    "\n",
    "import pytorch_lightning as pl\n",
    "\n",
    "import wandb\n",
    "\n",
    "import torchvision.transforms as T\n",
    "\n",
    "import sys\n",
    "sys.path.append('../')\n",
    "\n",
    "from datasets.cifar100_datamodule import DataModule"
   ]
  },
  {
   "cell_type": "code",
   "execution_count": null,
   "id": "7b8759b8",
   "metadata": {
    "gradient": {
     "editing": false
    }
   },
   "outputs": [],
   "source": [
    "train_transforms = T.Compose([\n",
    "                    T.RandomCrop(32, padding=4),\n",
    "                    T.RandomHorizontalFlip(),  # randomly flip image horizontally\n",
    "                    T.ToTensor(),\n",
    "                    T.Normalize((0.5071, 0.4865, 0.4409), (0.2673, 0.2564, 0.2762))\n",
    "                       ])\n",
    "test_transforms = T.Compose([\n",
    "                    T.ToTensor(),\n",
    "                    T.Normalize((0.5071, 0.4865, 0.4409), (0.2673, 0.2564, 0.2762))\n",
    "                        ])"
   ]
  },
  {
   "cell_type": "markdown",
   "id": "e68eb807",
   "metadata": {
    "gradient": {
     "editing": false
    }
   },
   "source": [
    "## Training with the DML strategy"
   ]
  },
  {
   "cell_type": "code",
   "execution_count": null,
   "id": "ad48eff8",
   "metadata": {
    "gradient": {
     "editing": false
    }
   },
   "outputs": [],
   "source": [
    "def kl_div(x, y):\n",
    "    px = softmax(x, dim=1)\n",
    "    lpx, lpy = log_softmax(x, dim=1), log_softmax(y, dim=1)\n",
    "    return (px*(lpx-lpy)).mean()\n",
    "\n",
    "class LitModel(pl.LightningModule):\n",
    "    \n",
    "    def __init__(self, ):\n",
    "        super().__init__()\n",
    "        \n",
    "        self.automatic_optimization = False\n",
    "        \n",
    "        self.resnet1 = resnet32()\n",
    "        self.resnet2 = resnet32()\n",
    "        \n",
    "        self.celoss = nn.CrossEntropyLoss()\n",
    "        self.acc = Accuracy(compute_on_step=True)\n",
    "        \n",
    "    def configure_optimizers(self):\n",
    "        opt = torch.optim.SGD([*self.resnet1.parameters(), *self.resnet2.parameters()], lr=.1, momentum=.9, nesterov=True)\n",
    "        step = torch.optim.lr_scheduler.StepLR(opt, step_size=60, gamma=.1)\n",
    "        return [opt], [step]\n",
    "    \n",
    "    def forward(self, x, optimize_first:bool=True):\n",
    "        x1 = self.resnet1(x)\n",
    "        x2 = self.resnet2(x)\n",
    "        if not optimize_first:\n",
    "            x1 = x1.detach()\n",
    "        else:\n",
    "            x2 = x2.detach()\n",
    "        return x1, x2\n",
    "    \n",
    "    def training_step(self, batch, batch_id):\n",
    "        x, y = batch\n",
    "\n",
    "        opt = self.optimizers()\n",
    "        \n",
    "        # Optimize student 1\n",
    "        x1, x2 = self(x)\n",
    "        loss = self.celoss(x1, y) + kl_div(x2, x1)\n",
    "        opt.zero_grad()\n",
    "        self.manual_backward(loss)\n",
    "        opt.step()\n",
    "        \n",
    "        self.log(f'train_loss1', loss, prog_bar=True,)\n",
    "        \n",
    "        # Optimize student 2\n",
    "        x1, x2 = self(x, False)\n",
    "        loss = self.celoss(x2, y) + kl_div(x1, x2)\n",
    "        opt.zero_grad()\n",
    "        self.manual_backward(loss)\n",
    "        opt.step()\n",
    "        \n",
    "        self.log(f'train_loss2', loss, prog_bar=True,)\n",
    "        \n",
    "        if self.trainer.is_last_batch :\n",
    "            self.lr_schedulers().step()\n",
    "            \n",
    "    \n",
    "    def validation_step(self, batch, *a):\n",
    "        x, y = batch\n",
    "        x1, x2 = self(x, True)\n",
    "        x1, x2 = softmax(x1, dim=1), softmax(x2, dim=1)\n",
    "        self.log('val_acc1', self.acc(x1, y), prog_bar=True)\n",
    "        self.log('val_acc2', self.acc(x2, y), prog_bar=True)\n",
    "            \n",
    "    def test_step(self, batch, *a):\n",
    "        x, y = batch\n",
    "        x1, x2 = self(x, True)\n",
    "        x1, x2 = softmax(x1, dim=1), softmax(x2, dim=1)\n",
    "        self.log('test_acc1', self.acc(x1, y), prog_bar=True)\n",
    "        self.log('test_acc2', self.acc(x2, y), prog_bar=True)"
   ]
  },
  {
   "cell_type": "code",
   "execution_count": null,
   "id": "3ff34cae",
   "metadata": {
    "gradient": {
     "editing": false
    }
   },
   "outputs": [
    {
     "name": "stderr",
     "output_type": "stream",
     "text": [
      "GPU available: True, used: True\n",
      "TPU available: False, using: 0 TPU cores\n",
      "IPU available: False, using: 0 IPUs\n",
      "LOCAL_RANK: 0 - CUDA_VISIBLE_DEVICES: [0]\n",
      "Failed to detect the name of this notebook, you can set it manually with the WANDB_NOTEBOOK_NAME environment variable to enable code saving.\n",
      "\u001b[34m\u001b[1mwandb\u001b[0m: Currently logged in as: \u001b[33mblurry-mood\u001b[0m (use `wandb login --relogin` to force relogin)\n",
      "\u001b[34m\u001b[1mwandb\u001b[0m: wandb version 0.12.1 is available!  To upgrade, please run:\n",
      "\u001b[34m\u001b[1mwandb\u001b[0m:  $ pip install wandb --upgrade\n"
     ]
    },
    {
     "data": {
      "text/html": [
       "\n",
       "                Tracking run with wandb version 0.12.0<br/>\n",
       "                Syncing run <strong style=\"color:#cdcd00\">volcanic-mountain-31</strong> to <a href=\"https://wandb.ai\" target=\"_blank\">Weights & Biases</a> <a href=\"https://docs.wandb.com/integrations/jupyter.html\" target=\"_blank\">(Documentation)</a>.<br/>\n",
       "                Project page: <a href=\"https://wandb.ai/blurry-mood/distilled%20models\" target=\"_blank\">https://wandb.ai/blurry-mood/distilled%20models</a><br/>\n",
       "                Run page: <a href=\"https://wandb.ai/blurry-mood/distilled%20models/runs/x5fup64d\" target=\"_blank\">https://wandb.ai/blurry-mood/distilled%20models/runs/x5fup64d</a><br/>\n",
       "                Run data is saved locally in <code>/notebooks/Distilled-Models/src/wandb/run-20210830_001104-x5fup64d</code><br/><br/>\n",
       "            "
      ],
      "text/plain": [
       "<IPython.core.display.HTML object>"
      ]
     },
     "metadata": {},
     "output_type": "display_data"
    },
    {
     "name": "stderr",
     "output_type": "stream",
     "text": [
      "\n",
      "  | Name    | Type             | Params\n",
      "---------------------------------------------\n",
      "0 | resnet1 | ResNet           | 470 K \n",
      "1 | resnet2 | ResNet           | 470 K \n",
      "2 | celoss  | CrossEntropyLoss | 0     \n",
      "3 | acc     | Accuracy         | 0     \n",
      "---------------------------------------------\n",
      "940 K     Trainable params\n",
      "0         Non-trainable params\n",
      "940 K     Total params\n",
      "3.760     Total estimated model params size (MB)\n"
     ]
    }
   ],
   "source": [
    "wandb.finish()\n",
    "\n",
    "lr_monitor = pl.callbacks.LearningRateMonitor(logging_interval='epoch')\n",
    "logger = pl.loggers.wandb.WandbLogger(project='distilled models', entity='blurry-mood')\n",
    "\n",
    "trainer = pl.Trainer(callbacks=[lr_monitor], logger=logger, \n",
    "                     gpus=-1, max_epochs=200, \n",
    "                     val_check_interval=1., progress_bar_refresh_rate=0)\n",
    "dm = DataModule('../datasets/cifar-100-python/', train_transform=train_transforms, test_transform=test_transforms,\n",
    "                batch_size=64)\n",
    "litmodel = LitModel()\n",
    "trainer.fit(litmodel, dm)\n",
    "trainer.test(litmodel)"
   ]
  },
  {
   "cell_type": "code",
   "execution_count": null,
   "id": "d105f85d",
   "metadata": {
    "gradient": {
     "editing": false
    }
   },
   "outputs": [],
   "source": [
    "torch.save(litmodel.resnet1.state_dict(), '../models/deep mutual learning/dml_s1_resnet32.pth')"
   ]
  },
  {
   "cell_type": "code",
   "execution_count": null,
   "id": "9af9ec7b",
   "metadata": {
    "gradient": {}
   },
   "outputs": [],
   "source": [
    "torch.save(litmodel.resnet2.state_dict(), '../models/deep mutual learning/dml_s2_resnet32.pth')"
   ]
  },
  {
   "cell_type": "code",
   "execution_count": null,
   "id": "5cacd0df",
   "metadata": {
    "gradient": {}
   },
   "outputs": [],
   "source": []
  }
 ],
 "metadata": {
  "kernelspec": {
   "display_name": "Python 3",
   "language": "python",
   "name": "python3"
  },
  "language_info": {
   "codemirror_mode": {
    "name": "ipython",
    "version": 3
   },
   "file_extension": ".py",
   "mimetype": "text/x-python",
   "name": "python",
   "nbconvert_exporter": "python",
   "pygments_lexer": "ipython3",
   "version": "3.8.5"
  }
 },
 "nbformat": 4,
 "nbformat_minor": 5
}
