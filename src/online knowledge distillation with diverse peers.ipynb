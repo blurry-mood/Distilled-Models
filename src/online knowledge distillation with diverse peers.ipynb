{
 "cells": [
  {
   "cell_type": "code",
   "execution_count": 1,
   "id": "fedd0370",
   "metadata": {
    "gradient": {
     "editing": false
    }
   },
   "outputs": [],
   "source": [
    "import torch\n",
    "torch.backends.cudnn.benchmark = True\n",
    "\n",
    "from torch import nn\n",
    "from torch.nn.functional import softmax,  log_softmax\n",
    "from torchmetrics import Accuracy\n",
    "\n",
    "from resnet_cifar import resnet32\n",
    "\n",
    "import pytorch_lightning as pl\n",
    "\n",
    "import wandb\n",
    "\n",
    "import torchvision.transforms as T\n",
    "\n",
    "import sys\n",
    "sys.path.append('../')\n",
    "\n",
    "from datasets.cifar100_datamodule import DataModule\n",
    "\n",
    "from deepblocks.layer import MultiHeadAttention"
   ]
  },
  {
   "cell_type": "markdown",
   "id": "61afb8cf",
   "metadata": {},
   "source": [
    "## Training with the network-based strategy"
   ]
  },
  {
   "cell_type": "code",
   "execution_count": 2,
   "id": "a0e43ade",
   "metadata": {},
   "outputs": [],
   "source": [
    "class Attention(nn.Module):\n",
    "    \n",
    "    def __init__(self, input_dim):\n",
    "        super().__init__()\n",
    "        \n",
    "        self.linear = nn.Linear(input_dim, input_dim, bias=False)\n",
    "        self.softmax = nn.Softmax(dim=-1)\n",
    "        \n",
    "    def forward(self, x):\n",
    "        xa = self.linear(x)\n",
    "        b = xa @ x.transpose(-1, -2)\n",
    "        c = self.softmax(b)\n",
    "        y = c @ x\n",
    "        return y"
   ]
  },
  {
   "cell_type": "code",
   "execution_count": 3,
   "id": "ece95616",
   "metadata": {},
   "outputs": [],
   "source": [
    "for _ in range(1000):\n",
    "    att = Attention(10)\n",
    "    x = torch.rand(100, 51, 10)\n",
    "    assert att(x).min()>=0"
   ]
  },
  {
   "cell_type": "code",
   "execution_count": 4,
   "id": "7cd05ecb",
   "metadata": {
    "gradient": {
     "editing": false
    }
   },
   "outputs": [],
   "source": [
    "wandb.finish()\n",
    "\n",
    "\n",
    "def kl_div(x, y):\n",
    "    return (x*(x/y).log()).mean()\n",
    "\n",
    "class LitModel(pl.LightningModule):\n",
    "    \n",
    "    def __init__(self, ):\n",
    "        super().__init__()\n",
    "        \n",
    "        self.student1 = resnet32()\n",
    "        self.student2 = resnet32()\n",
    "        self.student3 = resnet32()\n",
    "        self.leader = resnet32()\n",
    "        \n",
    "        self.mha = Attention(input_dim=100)\n",
    "        \n",
    "        self.T = 3.0\n",
    "        \n",
    "        self.celoss = nn.CrossEntropyLoss()\n",
    "        self.acc = Accuracy(compute_on_step=True, top_k=1)\n",
    "        \n",
    "    def configure_optimizers(self):\n",
    "        opt = torch.optim.SGD(self.parameters(), lr=.1, momentum=.9, nesterov=True, weight_decay=5e-4)\n",
    "        step = torch.optim.lr_scheduler.MultiStepLR(opt, milestones=[150, 255], gamma=.1)\n",
    "        return [opt], [step]\n",
    "    \n",
    "    def forward(self, x, optimize_first:bool=True):\n",
    "        x1 = self.student1(x)\n",
    "        x2 = self.student2(x)\n",
    "        x3 = self.student3(x)\n",
    "        xl = self.leader(x)\n",
    "        return x1, x2, x3, xl\n",
    "    \n",
    "    def training_step(self, batch, batch_id):\n",
    "        x, y = batch        \n",
    "        xs = self(x)\n",
    "        \n",
    "        # GT loss\n",
    "        loss = [self.celoss(_x, y) for _x in xs]\n",
    "        loss = torch.stack(loss, dim=0).sum()\n",
    "        \n",
    "        # peers loss\n",
    "        t1, t2, t3, tl = [softmax(_x/self.T, dim=1) for _x in xs]\n",
    "        peers = torch.stack((t1, t2, t3), dim=1)\n",
    "        mha_peers = self.mha(peers)\n",
    "\n",
    "        loss += self.T * kl_div(mha_peers, peers)\n",
    "        \n",
    "        # leader loss\n",
    "        mean = peers.mean(dim=1)\n",
    "        loss += self.T * kl_div(mean, tl)\n",
    "        \n",
    "        # logging\n",
    "        self.log('train_loss', loss, prog_bar=True)\n",
    "        self.log('train_acc', self.acc(tl, y), prog_bar=True)\n",
    "        \n",
    "        return loss    \n",
    "    \n",
    "    def validation_step(self, batch, batch_id):\n",
    "        x, y = batch        \n",
    "        xs = self(x)\n",
    "        \n",
    "        # GT loss\n",
    "        loss = [self.celoss(_x, y) for _x in xs]\n",
    "        loss = sum(loss)\n",
    "        \n",
    "        # peers loss\n",
    "        t1, t2, t3, tl = [softmax(_x, dim=1) for _x in xs]\n",
    "#         peers = torch.stack((t1, t2, t3), dim=1)\n",
    "#         mha_peers = self.mha(peers)\n",
    "#         loss += self.T * kl_div(mha_peers, peers)\n",
    "        \n",
    "        # leader loss\n",
    "#         mean = peers.mean(dim=1)\n",
    "#         loss += self.T * kl_div(mean, tl)\n",
    "        \n",
    "        # logging\n",
    "        self.log('val_loss', loss, prog_bar=True)\n",
    "        self.log('val_acc', self.acc(tl, y), prog_bar=True)\n",
    "        \n",
    "        return loss \n",
    "    \n",
    "    def test_step(self, batch, *a):\n",
    "        x, y = batch        \n",
    "        xs = self(x)\n",
    "        \n",
    "        # GT loss\n",
    "        loss = [self.celoss(_x, y) for _x in xs]\n",
    "        loss = sum(loss)\n",
    "        \n",
    "        # peers loss\n",
    "        t1, t2, t3, tl = [softmax(_x, dim=1) for _x in xs]\n",
    "#         peers = torch.stack((t1, t2, t3), dim=1)\n",
    "#         mha_peers = self.mha(peers)\n",
    "#         loss += self.T * kl_div(mha_peers, peers)\n",
    "        \n",
    "        # leader loss\n",
    "#         mean = peers.mean(dim=1)\n",
    "#         loss += self.T * kl_div(mean, tl)\n",
    "        \n",
    "        # logging\n",
    "        self.log('test_loss', loss, prog_bar=True)\n",
    "        self.log('test_acc', self.acc(tl, y), prog_bar=True)\n",
    "        \n",
    "        return loss "
   ]
  },
  {
   "cell_type": "code",
   "execution_count": 5,
   "id": "12961ed6",
   "metadata": {},
   "outputs": [],
   "source": [
    "train_transforms = T.Compose([\n",
    "                    T.RandomCrop(32, padding=4),\n",
    "                    T.RandomHorizontalFlip(),  # randomly flip image horizontally\n",
    "                    T.ToTensor(),\n",
    "                    T.Normalize((0.5071, 0.4865, 0.4409), (0.2673, 0.2564, 0.2762))\n",
    "                       ])\n",
    "test_transforms = T.Compose([\n",
    "                    T.ToTensor(),\n",
    "                    T.Normalize((0.5071, 0.4865, 0.4409), (0.2673, 0.2564, 0.2762))\n",
    "                        ])"
   ]
  },
  {
   "cell_type": "code",
   "execution_count": null,
   "id": "d9134760",
   "metadata": {
    "gradient": {
     "editing": false
    }
   },
   "outputs": [
    {
     "name": "stderr",
     "output_type": "stream",
     "text": [
      "GPU available: True, used: True\n",
      "TPU available: False, using: 0 TPU cores\n",
      "IPU available: False, using: 0 IPUs\n",
      "LOCAL_RANK: 0 - CUDA_VISIBLE_DEVICES: [0]\n"
     ]
    }
   ],
   "source": [
    "wandb.finish()\n",
    "\n",
    "lr_monitor = pl.callbacks.LearningRateMonitor(logging_interval='epoch')\n",
    "logger = pl.loggers.wandb.WandbLogger(project='distilled models', entity='blurry-mood')\n",
    "\n",
    "trainer = pl.Trainer(callbacks=[lr_monitor], logger=logger, \n",
    "                     gpus=-1, max_epochs=300, \n",
    "                     val_check_interval=1., progress_bar_refresh_rate=0)\n",
    "\n",
    "dm = DataModule('../datasets/cifar-100-python/', train_transform=train_transforms, test_transform=test_transforms,\n",
    "                batch_size=128)\n",
    "\n",
    "litmodel = LitModel()\n",
    "trainer.fit(litmodel, dm)\n",
    "trainer.test(litmodel)"
   ]
  },
  {
   "cell_type": "code",
   "execution_count": null,
   "id": "8dfd06ea",
   "metadata": {
    "gradient": {
     "editing": false
    }
   },
   "outputs": [],
   "source": [
    "torch.save(litmodel.leader.state_dict(), '../models/online knowledge distillation with diverse peers/leader_resnet32.pth')"
   ]
  },
  {
   "cell_type": "code",
   "execution_count": null,
   "id": "f2be9988",
   "metadata": {},
   "outputs": [],
   "source": []
  }
 ],
 "metadata": {
  "kernelspec": {
   "display_name": "Python 3",
   "language": "python",
   "name": "python3"
  },
  "language_info": {
   "codemirror_mode": {
    "name": "ipython",
    "version": 3
   },
   "file_extension": ".py",
   "mimetype": "text/x-python",
   "name": "python",
   "nbconvert_exporter": "python",
   "pygments_lexer": "ipython3",
   "version": "3.8.5"
  }
 },
 "nbformat": 4,
 "nbformat_minor": 5
}
