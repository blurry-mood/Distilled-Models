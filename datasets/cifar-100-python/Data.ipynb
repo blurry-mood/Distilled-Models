{
 "cells": [
  {
   "cell_type": "code",
   "execution_count": 21,
   "id": "proof-distribution",
   "metadata": {},
   "outputs": [],
   "source": [
    "import numpy as np\n",
    "from PIL import Image\n",
    "import pandas as pd"
   ]
  },
  {
   "cell_type": "code",
   "execution_count": 2,
   "id": "czech-lover",
   "metadata": {},
   "outputs": [],
   "source": [
    "train = np.load('train', allow_pickle=True, encoding='bytes')\n",
    "test = np.load('test', allow_pickle=True, encoding='bytes')"
   ]
  },
  {
   "cell_type": "code",
   "execution_count": 3,
   "id": "municipal-freeware",
   "metadata": {},
   "outputs": [
    {
     "data": {
      "text/plain": [
       "(dict_keys([b'filenames', b'batch_label', b'fine_labels', b'coarse_labels', b'data']),\n",
       " dict_keys([b'filenames', b'batch_label', b'fine_labels', b'coarse_labels', b'data']))"
      ]
     },
     "execution_count": 3,
     "metadata": {},
     "output_type": "execute_result"
    }
   ],
   "source": [
    "train.keys(), test.keys()"
   ]
  },
  {
   "cell_type": "code",
   "execution_count": 4,
   "id": "ignored-honor",
   "metadata": {},
   "outputs": [
    {
     "data": {
      "text/plain": [
       "((10000, 3072), (50000, 3072))"
      ]
     },
     "execution_count": 4,
     "metadata": {},
     "output_type": "execute_result"
    }
   ],
   "source": [
    "test[b'data'].shape, train[b'data'].shape"
   ]
  },
  {
   "cell_type": "code",
   "execution_count": 5,
   "id": "84fb37e3-33db-448d-9ba7-1ebafa09ff63",
   "metadata": {},
   "outputs": [],
   "source": [
    "! mkdir Train\n",
    "! mkdir Test"
   ]
  },
  {
   "cell_type": "code",
   "execution_count": 24,
   "id": "opposed-fourth",
   "metadata": {},
   "outputs": [],
   "source": [
    "from tqdm.auto import tqdm \n",
    "import os\n",
    "\n",
    "def save(root, csv, data):\n",
    "    n = data[b'data'].shape[0]\n",
    "    df = []\n",
    "    for i in tqdm(range(n)):\n",
    "        img = data[b'data'][i]\n",
    "        img = img.reshape(3, 32, 32)\n",
    "        fine_label = data[b'fine_labels'][i]\n",
    "        coarse_label = data[b'coarse_labels'][i]\n",
    "        filename = data[b'filenames'][i]\n",
    "        img = Image.fromarray(img.transpose(1, 2, 0))\n",
    "        img.save(root + os.sep + filename.decode(\"utf-8\"))\n",
    "        df.append([filename, fine_label, coarse_label])\n",
    "    pd.DataFrame(df, columns=['image', 'fine_label', 'coarse_label']).to_csv(csv, index=False)"
   ]
  },
  {
   "cell_type": "code",
   "execution_count": 25,
   "id": "spread-bidder",
   "metadata": {},
   "outputs": [
    {
     "data": {
      "application/vnd.jupyter.widget-view+json": {
       "model_id": "d023a2b11b82409f9a7ba4d990de6c1a",
       "version_major": 2,
       "version_minor": 0
      },
      "text/plain": [
       "HBox(children=(HTML(value=''), FloatProgress(value=0.0, max=10000.0), HTML(value='')))"
      ]
     },
     "metadata": {},
     "output_type": "display_data"
    },
    {
     "name": "stdout",
     "output_type": "stream",
     "text": [
      "\n"
     ]
    },
    {
     "data": {
      "application/vnd.jupyter.widget-view+json": {
       "model_id": "6deabe77a82344718d19cd75ff3cddb0",
       "version_major": 2,
       "version_minor": 0
      },
      "text/plain": [
       "HBox(children=(HTML(value=''), FloatProgress(value=0.0, max=50000.0), HTML(value='')))"
      ]
     },
     "metadata": {},
     "output_type": "display_data"
    },
    {
     "name": "stdout",
     "output_type": "stream",
     "text": [
      "\n"
     ]
    }
   ],
   "source": [
    "save('./Test/', 'test.csv', test)\n",
    "save('./Train/', 'train.csv', train)"
   ]
  },
  {
   "cell_type": "code",
   "execution_count": 27,
   "id": "central-wagon",
   "metadata": {},
   "outputs": [],
   "source": [
    "! mv Train train \n",
    "! mv Test test "
   ]
  },
  {
   "cell_type": "code",
   "execution_count": null,
   "id": "f9fc7d83-0f02-4daa-8f34-80292ed8dc4b",
   "metadata": {},
   "outputs": [],
   "source": []
  }
 ],
 "metadata": {
  "kernelspec": {
   "display_name": "Python 3",
   "language": "python",
   "name": "python3"
  },
  "language_info": {
   "codemirror_mode": {
    "name": "ipython",
    "version": 3
   },
   "file_extension": ".py",
   "mimetype": "text/x-python",
   "name": "python",
   "nbconvert_exporter": "python",
   "pygments_lexer": "ipython3",
   "version": "3.8.5"
  }
 },
 "nbformat": 4,
 "nbformat_minor": 5
}
